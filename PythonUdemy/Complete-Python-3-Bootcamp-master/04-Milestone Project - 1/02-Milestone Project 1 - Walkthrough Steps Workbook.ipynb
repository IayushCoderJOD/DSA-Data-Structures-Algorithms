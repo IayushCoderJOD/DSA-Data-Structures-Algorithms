{
 "cells": [
  {
   "cell_type": "markdown",
   "source": [
    "___\n",
    "\n",
    "<a href='https://www.udemy.com/user/joseportilla/'><img src='../Pierian_Data_Logo.png'/></a>\n",
    "___\n",
    "<center><em>Content Copyright by Pierian Data</em></center>"
   ],
   "metadata": {}
  },
  {
   "cell_type": "markdown",
   "source": [
    "88 # Milestone Project 1: Walkthrough Steps Workbook\r\n",
    "\r\n",
    "Below is a set of steps for you to follow to try to create the Tic Tac Toe Milestone Project game!"
   ],
   "metadata": {}
  },
  {
   "cell_type": "markdown",
   "source": [
    "#### Some suggested tools before you get started:\r\n",
    "To take input from a user:\r\n",
    "\r\n",
    "    player1 = input(\"Please pick a marker 'X' or 'O'\")\r\n",
    "    \r\n",
    "Note that input() takes in a string. If you need an integer value, use\r\n",
    "\r\n",
    "    position = int(input('Please enter a number'))\r\n",
    "    \r\n",
    "<br>To clear the screen between moves:\r\n",
    "\r\n",
    "    from IPython.display import clear_output\r\n",
    "    clear_output()\r\n",
    "    \r\n",
    "Note that clear_output() will only work in jupyter. To clear the screen in other IDEs, consider:\r\n",
    "\r\n",
    "    print('\\n'*100)\r\n",
    "    \r\n",
    "This scrolls the previous board up out of view. Now on to the program!"
   ],
   "metadata": {}
  },
  {
   "cell_type": "markdown",
   "source": [
    "**Step 1: Write a function that can print out a board. Set up your board as a list, where each index 1-9 corresponds with a number on a number pad, so you get a 3 by 3 board representation.**"
   ],
   "metadata": {}
  },
  {
   "cell_type": "code",
   "execution_count": 313,
   "source": [
    "from IPython.display import clear_output\r\n",
    "\r\n",
    "def display_board(board):\r\n",
    "    print(f\"  {board[1]}  |  {board[2]}  |  {board[3]}  \")\r\n",
    "    print(f\"-----+-----+-----\")\r\n",
    "    print(f\"  {board[4]}  |  {board[5]}  |  {board[6]}  \")\r\n",
    "    print(f\"-----+-----+-----\")\r\n",
    "    print(f\"  {board[7]}  |  {board[8]}  |  {board[9]}  \")"
   ],
   "outputs": [],
   "metadata": {
    "collapsed": true
   }
  },
  {
   "cell_type": "markdown",
   "source": [
    "**TEST Step 1:** run your function on a test version of the board list, and make adjustments as necessary"
   ],
   "metadata": {}
  },
  {
   "cell_type": "code",
   "execution_count": 314,
   "source": [
    "test_board = ['#','X','O','X','O','X','O','X','O','X']\r\n",
    "display_board(test_board)"
   ],
   "outputs": [
    {
     "output_type": "stream",
     "name": "stdout",
     "text": [
      "  X  |  O  |  X  \n",
      "-----+-----+-----\n",
      "  O  |  X  |  O  \n",
      "-----+-----+-----\n",
      "  X  |  O  |  X  \n"
     ]
    }
   ],
   "metadata": {
    "collapsed": true
   }
  },
  {
   "cell_type": "markdown",
   "source": [
    "**Step 2: Write a function that can take in a player input and assign their marker as 'X' or 'O'. Think about using *while* loops to continually ask until you get a correct answer.**"
   ],
   "metadata": {}
  },
  {
   "cell_type": "code",
   "execution_count": 315,
   "source": [
    "def player_input():\r\n",
    "    marker=input(\"Player1 do you choose 'X' or 'O'?:\")\r\n",
    "    while marker not in ['X','O']:\r\n",
    "        clear_output()\r\n",
    "        print(\"!!!Wrong input!!!\")\r\n",
    "        print(\"Try Again\")\r\n",
    "        marker=input(\"Player1 do you choose 'X' or 'O':\")\r\n",
    "    if marker==\"X\":\r\n",
    "        print(\"Player 1 has choosen 'X' mark\")\r\n",
    "        print(\"Player 2 is assigned 'O' mark\")\r\n",
    "        return marker\r\n",
    "    elif marker==\"O\":\r\n",
    "        print(\"Player 1 has choosen 'O' mark\")\r\n",
    "        print(\"Player 2 is assigned 'X' mark\")\r\n",
    "        return marker"
   ],
   "outputs": [],
   "metadata": {
    "collapsed": true
   }
  },
  {
   "cell_type": "markdown",
   "source": [
    "**TEST Step 2:** run the function to make sure it returns the desired output"
   ],
   "metadata": {}
  },
  {
   "cell_type": "code",
   "execution_count": 316,
   "source": [
    "player_input()"
   ],
   "outputs": [
    {
     "output_type": "stream",
     "name": "stdout",
     "text": [
      "Player 1 has choosen 'X' mark\n",
      "Player 2 is assigned 'O' mark\n"
     ]
    },
    {
     "output_type": "execute_result",
     "data": {
      "text/plain": [
       "'X'"
      ]
     },
     "metadata": {},
     "execution_count": 316
    }
   ],
   "metadata": {
    "collapsed": true
   }
  },
  {
   "cell_type": "markdown",
   "source": [
    "**Step 3: Write a function that takes in the board list object, a marker ('X' or 'O'), and a desired position (number 1-9) and assigns it to the board.**"
   ],
   "metadata": {}
  },
  {
   "cell_type": "code",
   "execution_count": 317,
   "source": [
    "def place_marker(board, marker, position):\r\n",
    "    board[position]=marker"
   ],
   "outputs": [],
   "metadata": {
    "collapsed": true
   }
  },
  {
   "cell_type": "markdown",
   "source": [
    "**TEST Step 3:** run the place marker function using test parameters and display the modified board"
   ],
   "metadata": {}
  },
  {
   "cell_type": "code",
   "execution_count": 318,
   "source": [
    "place_marker(test_board,'$',8)\r\n",
    "display_board(test_board)"
   ],
   "outputs": [
    {
     "output_type": "stream",
     "name": "stdout",
     "text": [
      "  X  |  O  |  X  \n",
      "-----+-----+-----\n",
      "  O  |  X  |  O  \n",
      "-----+-----+-----\n",
      "  X  |  $  |  X  \n"
     ]
    }
   ],
   "metadata": {
    "collapsed": true
   }
  },
  {
   "cell_type": "markdown",
   "source": [
    "**Step 4: Write a function that takes in a board and a mark (X or O) and then checks to see if that mark has won. **"
   ],
   "metadata": {}
  },
  {
   "cell_type": "code",
   "execution_count": 319,
   "source": [
    "def win_check(board):\r\n",
    "    win_list=[[1,2,3],[4,5,6],[7,8,9],[1,4,7],[2,5,8],[3,6,9],[3,5,7],[1,5,9]]\r\n",
    "    if board[win_list[0][0]]==board[win_list[0][1]]==board[win_list[0][2]]:\r\n",
    "        print(f\"-----|-----|-----\")\r\n",
    "        print(f\"-----+-----+-----\")\r\n",
    "        print(f\"  {board[4]}  |  {board[5]}  |  {board[6]}  \")\r\n",
    "        print(f\"-----+-----+-----\")\r\n",
    "        print(f\"  {board[7]}  |  {board[8]}  |  {board[9]}  \")\r\n",
    "        return True\r\n",
    "\r\n",
    "    elif board[win_list[1][0]]==board[win_list[1][1]]==board[win_list[1][2]]:\r\n",
    "        print(f\"  {board[1]}  |  {board[2]}  |  {board[3]}  \")\r\n",
    "        print(f\"-----+-----+-----\")\r\n",
    "        print(f\"-----|-----|-----\")\r\n",
    "        print(f\"-----+-----+-----\")\r\n",
    "        print(f\"  {board[7]}  |  {board[8]}  |  {board[9]}  \")\r\n",
    "        return True\r\n",
    "\r\n",
    "    elif board[win_list[2][0]]==board[win_list[2][1]]==board[win_list[2][2]]:\r\n",
    "        print(f\"  {board[1]}  |  {board[2]}  |  {board[3]}  \")\r\n",
    "        print(f\"-----+-----+-----\")\r\n",
    "        print(f\"  {board[4]}  |  {board[5]}  |  {board[6]}  \")\r\n",
    "        print(f\"-----+-----+-----\")\r\n",
    "        print(f\"-----|-----|-----\")\r\n",
    "        return True\r\n",
    "\r\n",
    "    elif board[win_list[3][0]]==board[win_list[3][1]]==board[win_list[3][2]]:\r\n",
    "        print(f\"  |  |  {board[2]}  |  {board[3]}  \")\r\n",
    "        print(f\"-----+-----+-----\")\r\n",
    "        print(f\"  |  |  {board[5]}  |  {board[6]}  \")\r\n",
    "        print(f\"-----+-----+-----\")\r\n",
    "        print(f\"  |  |  {board[8]}  |  {board[9]}  \")\r\n",
    "        return True\r\n",
    "\r\n",
    "    elif board[win_list[4][0]]==board[win_list[4][1]]==board[win_list[4][2]]:\r\n",
    "        print(f\"  {board[1]}  |  |  |  {board[3]}  \")\r\n",
    "        print(f\"-----+-----+-----\")\r\n",
    "        print(f\"  {board[4]}  |  |  |  {board[6]}  \")\r\n",
    "        print(f\"-----+-----+-----\")\r\n",
    "        print(f\"  {board[7]}  |  |  |  {board[9]}  \")\r\n",
    "        return True\r\n",
    "\r\n",
    "    elif board[win_list[5][0]]==board[win_list[5][1]]==board[win_list[5][2]]:\r\n",
    "        print(f\"  {board[1]}  |  {board[2]}  |  |  \")\r\n",
    "        print(f\"-----+-----+-----\")\r\n",
    "        print(f\"  {board[4]}  |  {board[5]}  |  |  \")\r\n",
    "        print(f\"-----+-----+-----\")\r\n",
    "        print(f\"  {board[7]}  |  {board[8]}  |  |  \")\r\n",
    "        return True\r\n",
    "\r\n",
    "    elif board[win_list[6][0]]==board[win_list[6][1]]==board[win_list[6][2]]:\r\n",
    "        print(f\"  {board[1]}  |  {board[2]}  |  /  \")\r\n",
    "        print(f\"-----+-----/-----\")\r\n",
    "        print(f\"  {board[4]}  |  /  |  {board[6]}  \")\r\n",
    "        print(f\"-----/-----+-----\")\r\n",
    "        print(f\"  /  |  {board[8]}  |  {board[9]}  \")\r\n",
    "        return True\r\n",
    "    \r\n",
    "    elif board[win_list[7][0]]==board[win_list[7][1]]==board[win_list[7][2]]:\r\n",
    "        print(f\"  \\  |  {board[2]}  |  {board[3]}  \")\r\n",
    "        print(f\"-----\\-----+-----\")\r\n",
    "        print(f\"  {board[4]}  |  \\  |  {board[6]}  \")\r\n",
    "        print(f\"-----+-----\\-----\")\r\n",
    "        print(f\"  {board[7]}  |  {board[8]}  |  \\  \")\r\n",
    "        return True\r\n",
    "    return False    \r\n",
    "        "
   ],
   "outputs": [],
   "metadata": {
    "collapsed": true
   }
  },
  {
   "cell_type": "markdown",
   "source": [
    "**TEST Step 4:** run the win_check function against our test_board - it should return True"
   ],
   "metadata": {}
  },
  {
   "cell_type": "code",
   "execution_count": 320,
   "source": [
    "win_check(test_board)"
   ],
   "outputs": [
    {
     "output_type": "stream",
     "name": "stdout",
     "text": [
      "  X  |  O  |  /  \n",
      "-----+-----/-----\n",
      "  O  |  /  |  O  \n",
      "-----/-----+-----\n",
      "  /  |  $  |  X  \n"
     ]
    },
    {
     "output_type": "execute_result",
     "data": {
      "text/plain": [
       "True"
      ]
     },
     "metadata": {},
     "execution_count": 320
    }
   ],
   "metadata": {
    "collapsed": true
   }
  },
  {
   "cell_type": "markdown",
   "source": [
    "**Step 5: Write a function that uses the random module to randomly decide which player goes first. You may want to lookup random.randint() Return a string of which player went first.**"
   ],
   "metadata": {}
  },
  {
   "cell_type": "code",
   "execution_count": 321,
   "source": [
    "import random\r\n",
    "def choose_first(marker):\r\n",
    "    markers=['X','O']\r\n",
    "    start=random.choice(markers)\r\n",
    "    if marker==start:\r\n",
    "        print(f\"Player 1 has '{start}' mark, will start first...\")\r\n",
    "    elif marker!=start:\r\n",
    "        print(f\"Player 2 has '{start}' mark, will start first...\")\r\n",
    "    return start"
   ],
   "outputs": [],
   "metadata": {
    "collapsed": true
   }
  },
  {
   "cell_type": "markdown",
   "source": [
    "**Step 6: Write a function that returns a boolean indicating whether a space on the board is freely available.**"
   ],
   "metadata": {}
  },
  {
   "cell_type": "code",
   "execution_count": 322,
   "source": [
    "def space_check(board):\r\n",
    "    for count1 in range(1,10):\r\n",
    "        if board not in ['X','O']:\r\n",
    "            return True"
   ],
   "outputs": [],
   "metadata": {
    "collapsed": true
   }
  },
  {
   "cell_type": "markdown",
   "source": [
    "**Step 7: Write a function that checks if the board is full and returns a boolean value. True if full, False otherwise.**"
   ],
   "metadata": {}
  },
  {
   "cell_type": "code",
   "execution_count": 323,
   "source": [
    "def full_board_check(board):\r\n",
    "    for count1 in range(1,10):\r\n",
    "        if board[count1] not in ['X','O']:\r\n",
    "            return False\r\n",
    "    return True"
   ],
   "outputs": [],
   "metadata": {
    "collapsed": true
   }
  },
  {
   "cell_type": "markdown",
   "source": [
    "**Step 8: Write a function that asks for a player's next position (as a number 1-9) and then uses the function from step 6 to check if it's a free position. If it is, then return the position for later use.**"
   ],
   "metadata": {}
  },
  {
   "cell_type": "code",
   "execution_count": 324,
   "source": [
    "def player_choice(board,start,marker):\r\n",
    "    boolean=True\r\n",
    "    while boolean:                                                             \r\n",
    "        if start==marker:\r\n",
    "            position=int(input(f\"Player 1 ({start}) Enter a position:\"))\r\n",
    "            boolean=False        \r\n",
    "        elif start!=marker:\r\n",
    "            position=int(input(f\"Player 2 ({start}) Enter a position:\"))\r\n",
    "            boolean=False\r\n",
    "        else:\r\n",
    "            print(\"Try Again\")\r\n",
    "            print(\"!!!WRONG INPUT!!!\")\r\n",
    "    return position,start,marker"
   ],
   "outputs": [],
   "metadata": {
    "collapsed": true
   }
  },
  {
   "cell_type": "markdown",
   "source": [
    "**Step 9: Write a function that asks the player if they want to play again and returns a boolean True if they do want to play again.**"
   ],
   "metadata": {}
  },
  {
   "cell_type": "code",
   "execution_count": 325,
   "source": [
    "def replay():\r\n",
    "    bool=input(\"Do you want to play again ('y','n')?:\")\r\n",
    "    if bool=='y':\r\n",
    "        return True\r\n",
    "    elif bool=='n':\r\n",
    "        return False\r\n",
    "    else:\r\n",
    "        print(\"Try Again\")\r\n",
    "        print(\"!!!WRONG INPUT!!!\")"
   ],
   "outputs": [],
   "metadata": {
    "collapsed": true
   }
  },
  {
   "cell_type": "markdown",
   "source": [
    "**Step 10: Here comes the hard part! Use while loops and the functions you've made to run the game!**"
   ],
   "metadata": {
    "collapsed": true
   }
  },
  {
   "cell_type": "code",
   "execution_count": 326,
   "source": [
    "print('Welcome to Tic Tac Toe!')\r\n",
    "\r\n",
    "#while True:\r\n",
    "    # Set the game up here\r\n",
    "    #pass\r\n",
    "\r\n",
    "    #while game_on:\r\n",
    "        #Player 1 Turn\r\n",
    "        \r\n",
    "        \r\n",
    "        # Player2's turn.\r\n",
    "            \r\n",
    "            #pass\r\n",
    "\r\n",
    "    #if not replay():\r\n",
    "        #break"
   ],
   "outputs": [
    {
     "output_type": "stream",
     "name": "stdout",
     "text": [
      "Welcome to Tic Tac Toe!\n"
     ]
    }
   ],
   "metadata": {
    "collapsed": true
   }
  },
  {
   "cell_type": "code",
   "execution_count": 327,
   "source": [
    "boolean3=True\r\n",
    "while boolean3:\r\n",
    "    clear_output()\r\n",
    "    print('Welcome to Tic Tac Toe!')\r\n",
    "    marker=player_input()\r\n",
    "    board=['#',1,2,3,4,5,6,7,8,9]\r\n",
    "    start=choose_first(marker)\r\n",
    "    boolean1=boolean2=boolean4=True\r\n",
    "    while boolean4:\r\n",
    "        while boolean2:\r\n",
    "            display_board(board)\r\n",
    "            temp_pos,start,marker=player_choice(board,start,marker)\r\n",
    "            if temp_pos in board:\r\n",
    "                position=temp_pos\r\n",
    "                place_marker(board,start,position)\r\n",
    "                if start=='X':\r\n",
    "                    start='O'\r\n",
    "                elif start=='O':\r\n",
    "                    start='X'\r\n",
    "                boolean2=False\r\n",
    "            else:\r\n",
    "                print(\"Try Again\")\r\n",
    "                print(\"!!!WRONG INPUT!!!\")\r\n",
    "            clear_output()\r\n",
    "        boolean2=True\r\n",
    "        if full_board_check(board)==True or win_check(board)==True:\r\n",
    "            if full_board_check(board)==True:\r\n",
    "                print(\"!!!!!DRAW!!!!!\")\r\n",
    "            boolean4=False\r\n",
    "            boolean3=replay()"
   ],
   "outputs": [
    {
     "output_type": "stream",
     "name": "stdout",
     "text": [
      "Welcome to Tic Tac Toe!\n",
      "Player 1 has choosen 'X' mark\n",
      "Player 2 is assigned 'O' mark\n",
      "Player 2 has 'O' mark, will start first...\n",
      "  1  |  2  |  3  \n",
      "-----+-----+-----\n",
      "  4  |  5  |  6  \n",
      "-----+-----+-----\n",
      "  7  |  8  |  9  \n"
     ]
    },
    {
     "output_type": "error",
     "ename": "ValueError",
     "evalue": "invalid literal for int() with base 10: ''",
     "traceback": [
      "\u001b[1;31m---------------------------------------------------------------------------\u001b[0m",
      "\u001b[1;31mValueError\u001b[0m                                Traceback (most recent call last)",
      "\u001b[1;32m<ipython-input-327-9926aeec7fda>\u001b[0m in \u001b[0;36m<module>\u001b[1;34m\u001b[0m\n\u001b[0;32m     10\u001b[0m         \u001b[1;32mwhile\u001b[0m \u001b[0mboolean2\u001b[0m\u001b[1;33m:\u001b[0m\u001b[1;33m\u001b[0m\u001b[1;33m\u001b[0m\u001b[0m\n\u001b[0;32m     11\u001b[0m             \u001b[0mdisplay_board\u001b[0m\u001b[1;33m(\u001b[0m\u001b[0mboard\u001b[0m\u001b[1;33m)\u001b[0m\u001b[1;33m\u001b[0m\u001b[1;33m\u001b[0m\u001b[0m\n\u001b[1;32m---> 12\u001b[1;33m             \u001b[0mtemp_pos\u001b[0m\u001b[1;33m,\u001b[0m\u001b[0mstart\u001b[0m\u001b[1;33m,\u001b[0m\u001b[0mmarker\u001b[0m\u001b[1;33m=\u001b[0m\u001b[0mplayer_choice\u001b[0m\u001b[1;33m(\u001b[0m\u001b[0mboard\u001b[0m\u001b[1;33m,\u001b[0m\u001b[0mstart\u001b[0m\u001b[1;33m,\u001b[0m\u001b[0mmarker\u001b[0m\u001b[1;33m)\u001b[0m\u001b[1;33m\u001b[0m\u001b[1;33m\u001b[0m\u001b[0m\n\u001b[0m\u001b[0;32m     13\u001b[0m             \u001b[1;32mif\u001b[0m \u001b[0mtemp_pos\u001b[0m \u001b[1;32min\u001b[0m \u001b[0mboard\u001b[0m\u001b[1;33m:\u001b[0m\u001b[1;33m\u001b[0m\u001b[1;33m\u001b[0m\u001b[0m\n\u001b[0;32m     14\u001b[0m                 \u001b[0mposition\u001b[0m\u001b[1;33m=\u001b[0m\u001b[0mtemp_pos\u001b[0m\u001b[1;33m\u001b[0m\u001b[1;33m\u001b[0m\u001b[0m\n",
      "\u001b[1;32m<ipython-input-324-c0024ec6ca19>\u001b[0m in \u001b[0;36mplayer_choice\u001b[1;34m(board, start, marker)\u001b[0m\n\u001b[0;32m      5\u001b[0m             \u001b[0mposition\u001b[0m\u001b[1;33m=\u001b[0m\u001b[0mint\u001b[0m\u001b[1;33m(\u001b[0m\u001b[0minput\u001b[0m\u001b[1;33m(\u001b[0m\u001b[1;34mf\"Player 1 ({start}) Enter a position:\"\u001b[0m\u001b[1;33m)\u001b[0m\u001b[1;33m)\u001b[0m\u001b[1;33m\u001b[0m\u001b[1;33m\u001b[0m\u001b[0m\n\u001b[0;32m      6\u001b[0m         \u001b[1;32melif\u001b[0m \u001b[0mstart\u001b[0m\u001b[1;33m!=\u001b[0m\u001b[0mmarker\u001b[0m\u001b[1;33m:\u001b[0m\u001b[1;33m\u001b[0m\u001b[1;33m\u001b[0m\u001b[0m\n\u001b[1;32m----> 7\u001b[1;33m             \u001b[0mposition\u001b[0m\u001b[1;33m=\u001b[0m\u001b[0mint\u001b[0m\u001b[1;33m(\u001b[0m\u001b[0minput\u001b[0m\u001b[1;33m(\u001b[0m\u001b[1;34mf\"Player 2 ({start}) Enter a position:\"\u001b[0m\u001b[1;33m)\u001b[0m\u001b[1;33m)\u001b[0m\u001b[1;33m\u001b[0m\u001b[1;33m\u001b[0m\u001b[0m\n\u001b[0m\u001b[0;32m      8\u001b[0m         \u001b[1;32melse\u001b[0m\u001b[1;33m:\u001b[0m\u001b[1;33m\u001b[0m\u001b[1;33m\u001b[0m\u001b[0m\n\u001b[0;32m      9\u001b[0m             \u001b[0mprint\u001b[0m\u001b[1;33m(\u001b[0m\u001b[1;34m\"Try Again\"\u001b[0m\u001b[1;33m)\u001b[0m\u001b[1;33m\u001b[0m\u001b[1;33m\u001b[0m\u001b[0m\n",
      "\u001b[1;31mValueError\u001b[0m: invalid literal for int() with base 10: ''"
     ]
    }
   ],
   "metadata": {}
  },
  {
   "cell_type": "markdown",
   "source": [
    "## Good Job!"
   ],
   "metadata": {
    "collapsed": true
   }
  }
 ],
 "metadata": {
  "kernelspec": {
   "name": "python3",
   "display_name": "Python 3.8.8 64-bit ('base': conda)"
  },
  "language_info": {
   "codemirror_mode": {
    "name": "ipython",
    "version": 3
   },
   "file_extension": ".py",
   "mimetype": "text/x-python",
   "name": "python",
   "nbconvert_exporter": "python",
   "pygments_lexer": "ipython3",
   "version": "3.8.8"
  },
  "interpreter": {
   "hash": "42588fd11209419b7c81abe23e31a1d2101f60811b02170c268e57ebb57d5d9a"
  }
 },
 "nbformat": 4,
 "nbformat_minor": 1
}