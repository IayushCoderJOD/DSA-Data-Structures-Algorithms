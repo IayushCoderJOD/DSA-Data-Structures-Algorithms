{
 "cells": [
  {
   "cell_type": "code",
   "execution_count": 1,
   "source": [
    "import zipfile"
   ],
   "outputs": [],
   "metadata": {}
  },
  {
   "cell_type": "code",
   "execution_count": 3,
   "source": [
    "zip_object=zipfile.ZipFile('unzip_me_for_instructions.zip','r')"
   ],
   "outputs": [],
   "metadata": {}
  },
  {
   "cell_type": "code",
   "execution_count": 4,
   "source": [
    "zip_object.extractall()"
   ],
   "outputs": [],
   "metadata": {}
  },
  {
   "cell_type": "code",
   "execution_count": 26,
   "source": [
    "import os\r\n",
    "import re\r\n",
    "\r\n",
    "for folder,sub_folders,files in os.walk('extracted_content'):\r\n",
    "    print(f\"Folder : {folder}\")\r\n",
    "    for file in files:\r\n",
    "        myfile=open(folder+'\\\\'+file)\r\n",
    "        myfile=myfile.read()\r\n",
    "        phone_number=re.search(r\"\\d{3}-\\d{3}-\\d{4}\",myfile)\r\n",
    "        if phone_number != None:\r\n",
    "            print(f\"\\tFile : {file}\")\r\n",
    "            print(\"\\t\\tPhone number : \"+str(phone_number.group()))"
   ],
   "outputs": [
    {
     "output_type": "stream",
     "name": "stdout",
     "text": [
      "Folder : extracted_content\n",
      "Folder : extracted_content\\Five\n",
      "Folder : extracted_content\\Four\n",
      "\tFile : EMTGPSXQEJX.txt\n",
      "\t\tPhone number : 719-266-2837\n",
      "Folder : extracted_content\\One\n",
      "Folder : extracted_content\\Three\n",
      "Folder : extracted_content\\Two\n"
     ]
    }
   ],
   "metadata": {}
  }
 ],
 "metadata": {
  "orig_nbformat": 4,
  "language_info": {
   "name": "python",
   "version": "3.8.8",
   "mimetype": "text/x-python",
   "codemirror_mode": {
    "name": "ipython",
    "version": 3
   },
   "pygments_lexer": "ipython3",
   "nbconvert_exporter": "python",
   "file_extension": ".py"
  },
  "kernelspec": {
   "name": "python3",
   "display_name": "Python 3.8.8 64-bit ('base': conda)"
  },
  "interpreter": {
   "hash": "42588fd11209419b7c81abe23e31a1d2101f60811b02170c268e57ebb57d5d9a"
  }
 },
 "nbformat": 4,
 "nbformat_minor": 2
}