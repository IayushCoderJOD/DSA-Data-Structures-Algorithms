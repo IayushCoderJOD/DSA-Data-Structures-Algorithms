{
 "cells": [
  {
   "cell_type": "markdown",
   "source": [
    "___\n",
    "\n",
    "<a href='https://www.udemy.com/user/joseportilla/'><img src='../Pierian_Data_Logo.png'/></a>\n",
    "___\n",
    "<center><em>Content Copyright by Pierian Data</em></center>"
   ],
   "metadata": {}
  },
  {
   "cell_type": "markdown",
   "source": [
    "# Guessing Game Challenge\r\n",
    "\r\n",
    "Let's use `while` loops to create a guessing game.\r\n",
    "\r\n",
    "The Challenge:\r\n",
    "\r\n",
    "Write a program that picks a random integer from 1 to 100, and has players guess the number. The rules are:\r\n",
    "\r\n",
    "1. If a player's guess is less than 1 or greater than 100, say \"OUT OF BOUNDS\"\r\n",
    "2. On a player's first turn, if their guess is\r\n",
    " * within 10 of the number, return \"WARM!\"\r\n",
    " * further than 10 away from the number, return \"COLD!\"\r\n",
    "3. On all subsequent turns, if a guess is \r\n",
    " * closer to the number than the previous guess return \"WARMER!\"\r\n",
    " * farther from the number than the previous guess, return \"COLDER!\"\r\n",
    "4. When the player's guess equals the number, tell them they've guessed correctly *and* how many guesses it took!\r\n",
    "\r\n",
    "You can try this from scratch, or follow the steps outlined below. A separate Solution notebook has been provided. Good luck!\r\n"
   ],
   "metadata": {}
  },
  {
   "cell_type": "markdown",
   "source": [
    "#### First, pick a random integer from 1 to 100 using the random module and assign it to a variable\r\n",
    "\r\n",
    "Note: `random.randint(a,b)` returns a random integer in range `[a, b]`, including both end points."
   ],
   "metadata": {}
  },
  {
   "cell_type": "code",
   "execution_count": 2,
   "source": [
    "temp_num=int(input('Pick a random integer from 1 to 100:'))\r\n",
    "if temp_num in list(range(1,101)):\r\n",
    "    real_num=temp_num\r\n",
    "    print(\"THANK YOU\")\r\n",
    "else:\r\n",
    "    print('OUT OF BOUNDS')"
   ],
   "outputs": [
    {
     "output_type": "stream",
     "name": "stdout",
     "text": [
      "THANK YOU\n"
     ]
    }
   ],
   "metadata": {
    "collapsed": true
   }
  },
  {
   "cell_type": "markdown",
   "source": [
    "#### Next, print an introduction to the game and explain the rules"
   ],
   "metadata": {}
  },
  {
   "cell_type": "code",
   "execution_count": 3,
   "source": [
    "print(\"# Guessing Game Challenge\\n\")\r\n",
    "print(\"Pick a random integer from 1 to 100, and players has to guess the number.\\n The rules are:\")\r\n",
    "print(\"1. If a player's guess is less than 1 or greater than 100, output: 'OUT OF BOUNDS'\")\r\n",
    "print(\"2. On a player's first turn, if their guess is\")\r\n",
    "print(\"\\t* within 10 of the number, output: 'WARM!'\")\r\n",
    "print(\"\\t* further than 10 away from the number, output: 'COLD!'\")\r\n",
    "print(\"3. On all subsequent turns, if a guess is\")\r\n",
    "print(\"\\t* closer to the number than the previous guess, output: 'WARMER!'\")\r\n",
    "print(\"\\t* farther from the number than the previous guess, output: 'COLDER!'\")\r\n",
    "print(\"4. When the player's guess equals the number, output: 'SUCCESS'\")\r\n",
    "print(\"Good luck!\")"
   ],
   "outputs": [
    {
     "output_type": "stream",
     "name": "stdout",
     "text": [
      "# Guessing Game Challenge\n",
      "\n",
      "Pick a random integer from 1 to 100, and players has to guess the number.\n",
      " The rules are:\n",
      "1. If a player's guess is less than 1 or greater than 100, output: 'OUT OF BOUNDS'\n",
      "2. On a player's first turn, if their guess is\n",
      "\t* within 10 of the number, output: 'WARM!'\n",
      "\t* further than 10 away from the number, output: 'COLD!'\n",
      "3. On all subsequent turns, if a guess is\n",
      "\t* closer to the number than the previous guess, output: 'WARMER!'\n",
      "\t* farther from the number than the previous guess, output: 'COLDER!'\n",
      "4. When the player's guess equals the number, output: 'SUCCESS'\n",
      "Good luck!\n"
     ]
    }
   ],
   "metadata": {
    "collapsed": true
   }
  },
  {
   "cell_type": "markdown",
   "source": [
    "#### Create a list to store guesses\n",
    "\n",
    "Hint: zero is a good placeholder value. It's useful because it evaluates to \"False\""
   ],
   "metadata": {}
  },
  {
   "cell_type": "code",
   "execution_count": 4,
   "source": [
    "guess_list=[]"
   ],
   "outputs": [],
   "metadata": {
    "collapsed": true
   }
  },
  {
   "cell_type": "markdown",
   "source": [
    "#### Write a `while` loop that asks for a valid guess. Test it a few times to make sure it works."
   ],
   "metadata": {}
  },
  {
   "cell_type": "markdown",
   "source": [
    "#### Write a `while` loop that compares the player's guess to our number. If the player guesses correctly, break from the loop. Otherwise, tell the player if they're warmer or colder, and continue asking for guesses.\r\n",
    "\r\n",
    "Some hints:\r\n",
    "* it may help to sketch out all possible combinations on paper first!\r\n",
    "* you can use the `abs()` function to find the positive difference between two numbers\r\n",
    "* if you append all new guesses to the list, then the previous guess is given as `guesses[-2]`"
   ],
   "metadata": {}
  },
  {
   "cell_type": "code",
   "execution_count": 5,
   "source": [
    "guess_list=[]\r\n",
    "guess=0\r\n",
    "guess_no=0\r\n",
    "close_guess=0\r\n",
    "while True:\r\n",
    "    # we can copy the code from above to take an input\r\n",
    "    guess=int(input('Take a guess:'))\r\n",
    "    guess_list.append(guess)\r\n",
    "    print(guess_list)\r\n",
    "    guess_no+=1\r\n",
    "    my_range=list(range(1,101))\r\n",
    "    if guess in list(range(1,101)):\r\n",
    "        if real_num==guess:\r\n",
    "            print('!!!!!! CONGRATULATIONS !!!!!!')\r\n",
    "            print(f'No of guesses taken:{guess_no}')\r\n",
    "            print(f'list of guesses taken:\\n{guess_list}')\r\n",
    "            print(f'The secret number is:{real_num}')\r\n",
    "            break\r\n",
    "        elif close_guess==0:\r\n",
    "            if guess in list(range(real_num-10,real_num+11)):\r\n",
    "                print('WARM!')\r\n",
    "                print('Try Again')\r\n",
    "                close_guess+=1\r\n",
    "            else:\r\n",
    "                print('COLD!')\r\n",
    "                print('Try Again')\r\n",
    "        else:\r\n",
    "            if real_num>guess:\r\n",
    "                if guess in list(range(guess_list[-2],2*real_num-guess_list[-2]+1)):\r\n",
    "                    print('WARMER!!')\r\n",
    "                    print('Try Again')\r\n",
    "                else:\r\n",
    "                    print('COLDER!!')\r\n",
    "                    print('Try Again') \r\n",
    "            elif real_num<guess:\r\n",
    "                if guess in list(range(2*real_num-guess_list[-2],guess_list[-2]+1)):\r\n",
    "                    print('WARMER!!')\r\n",
    "                    print('Try Again')\r\n",
    "                else:\r\n",
    "                    print('COLDER!!')\r\n",
    "                    print('Try Again')        \r\n",
    "    else:\r\n",
    "        print('!!!!!!OUT OF BOUNDS!!!!!!')\r\n"
   ],
   "outputs": [
    {
     "output_type": "stream",
     "name": "stdout",
     "text": [
      "[65]\n",
      "COLD!\n",
      "Try Again\n",
      "[65, 55]\n",
      "WARM!\n",
      "Try Again\n",
      "[65, 55, 52]\n",
      "WARMER!!\n",
      "Try Again\n",
      "[65, 55, 52, 53]\n",
      "COLDER!!\n",
      "Try Again\n",
      "[65, 55, 52, 53, 50]\n",
      "WARMER!!\n",
      "Try Again\n",
      "[65, 55, 52, 53, 50, 48]\n",
      "WARMER!!\n",
      "Try Again\n",
      "[65, 55, 52, 53, 50, 48, 46]\n",
      "WARMER!!\n",
      "Try Again\n",
      "[65, 55, 52, 53, 50, 48, 46, 44]\n",
      "COLDER!!\n",
      "Try Again\n",
      "[65, 55, 52, 53, 50, 48, 46, 44, 45]\n",
      "!!!!!! CONGRATULATIONS !!!!!!\n",
      "No of guesses taken:9\n",
      "list of guesses taken:\n",
      "[65, 55, 52, 53, 50, 48, 46, 44, 45]\n",
      "The secret number is:45\n"
     ]
    }
   ],
   "metadata": {}
  },
  {
   "cell_type": "markdown",
   "source": [
    "That's it! You've just programmed your first game!\n",
    "\n",
    "In the next section we'll learn how to turn some of these repetitive actions into *functions* that can be called whenever we need them."
   ],
   "metadata": {}
  },
  {
   "cell_type": "markdown",
   "source": [
    "### Good Job!"
   ],
   "metadata": {}
  }
 ],
 "metadata": {
  "kernelspec": {
   "name": "python3",
   "display_name": "Python 3.8.8 64-bit ('base': conda)"
  },
  "language_info": {
   "codemirror_mode": {
    "name": "ipython",
    "version": 3
   },
   "file_extension": ".py",
   "mimetype": "text/x-python",
   "name": "python",
   "nbconvert_exporter": "python",
   "pygments_lexer": "ipython3",
   "version": "3.8.8"
  },
  "interpreter": {
   "hash": "42588fd11209419b7c81abe23e31a1d2101f60811b02170c268e57ebb57d5d9a"
  }
 },
 "nbformat": 4,
 "nbformat_minor": 2
}