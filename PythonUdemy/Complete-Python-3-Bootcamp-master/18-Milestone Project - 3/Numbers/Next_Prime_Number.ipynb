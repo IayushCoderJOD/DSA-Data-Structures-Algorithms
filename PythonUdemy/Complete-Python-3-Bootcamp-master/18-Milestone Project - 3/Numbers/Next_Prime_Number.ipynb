{
 "cells": [
  {
   "cell_type": "markdown",
   "source": [
    "## Next Prime Number\n",
    " Have the program find prime numbers until the user chooses to stop asking for the next one."
   ],
   "metadata": {}
  },
  {
   "cell_type": "code",
   "execution_count": 7,
   "source": [
    "prime=0\n",
    "while True:\n",
    "    ask=input('Do you want a prime number (y,n) :')\n",
    "    if ask=='y':\n",
    "        while True:\n",
    "            prime+=1\n",
    "            x=0\n",
    "            for count in range(1,prime):\n",
    "                if prime%count==0:\n",
    "                    x+=1\n",
    "            if x==1:\n",
    "                print(prime)\n",
    "                break\n",
    "    elif ask=='n':\n",
    "        break\n",
    "    else:\n",
    "        print('wrong input!')"
   ],
   "outputs": [
    {
     "output_type": "stream",
     "name": "stdout",
     "text": [
      "2\n",
      "3\n",
      "5\n",
      "7\n",
      "11\n",
      "13\n"
     ]
    }
   ],
   "metadata": {}
  }
 ],
 "metadata": {
  "orig_nbformat": 4,
  "language_info": {
   "name": "python",
   "version": "3.8.8",
   "mimetype": "text/x-python",
   "codemirror_mode": {
    "name": "ipython",
    "version": 3
   },
   "pygments_lexer": "ipython3",
   "nbconvert_exporter": "python",
   "file_extension": ".py"
  },
  "kernelspec": {
   "name": "python3",
   "display_name": "Python 3.8.8 64-bit ('base': conda)"
  },
  "interpreter": {
   "hash": "32b3c49f4e17151da5efb53fbc98b5a874dd55244b4e58b7282d112de778da72"
  }
 },
 "nbformat": 4,
 "nbformat_minor": 2
}