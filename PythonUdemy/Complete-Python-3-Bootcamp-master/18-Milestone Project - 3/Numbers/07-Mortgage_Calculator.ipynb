{
 "cells": [
  {
   "cell_type": "markdown",
   "source": [
    "## EMI Calculator\n",
    "Calculate the monthly payments of a fixed term mortgage over given Nth terms at a given interest rate. Also figure out how long it will take the user to pay back the loan. For added complexity, add an option for users to select the compounding interval (Monthly, Weekly, Daily, Continually)."
   ],
   "metadata": {}
  },
  {
   "cell_type": "code",
   "execution_count": 4,
   "source": [
    "while True:\n",
    "    try:\n",
    "        loan_amount=int(input('Enter the amount of loan: '))\n",
    "    except:\n",
    "        print('Wrong input')\n",
    "    else:\n",
    "        break\n",
    "while True:\n",
    "    try:\n",
    "        interest_rate=int(input('Enter te interest rate (per annum): '))\n",
    "    except:\n",
    "        print('Wrong input')\n",
    "    else:\n",
    "        break\n",
    "while True:\n",
    "    try:\n",
    "        month=int(input('Enter the duration (in months) : '))\n",
    "    except:\n",
    "        print('Wrong input')\n",
    "    else:\n",
    "        break\n",
    "\n",
    "total_intt=0\n",
    "for count in range(1,month+1):\n",
    "    monthly_intt=loan_amount*interest_rate/12/100\n",
    "    loan_amount-=monthly_intt\n",
    "    total_intt+=monthly_intt\n",
    "    print(monthly_intt)\n",
    "print(total_intt)"
   ],
   "outputs": [
    {
     "output_type": "stream",
     "name": "stdout",
     "text": [
      "1000.0\n",
      "990.0\n",
      "980.1\n",
      "970.2989999999998\n",
      "960.5960099999998\n",
      "950.9900499\n",
      "941.4801494009998\n",
      "932.0653479069898\n",
      "922.7446944279201\n",
      "913.5172474836409\n",
      "904.3820750088042\n",
      "895.3382542587163\n",
      "11361.51282838707\n"
     ]
    }
   ],
   "metadata": {}
  }
 ],
 "metadata": {
  "orig_nbformat": 4,
  "language_info": {
   "name": "python",
   "version": "3.8.8",
   "mimetype": "text/x-python",
   "codemirror_mode": {
    "name": "ipython",
    "version": 3
   },
   "pygments_lexer": "ipython3",
   "nbconvert_exporter": "python",
   "file_extension": ".py"
  },
  "kernelspec": {
   "name": "python3",
   "display_name": "Python 3.8.8 64-bit ('base': conda)"
  },
  "interpreter": {
   "hash": "32b3c49f4e17151da5efb53fbc98b5a874dd55244b4e58b7282d112de778da72"
  }
 },
 "nbformat": 4,
 "nbformat_minor": 2
}