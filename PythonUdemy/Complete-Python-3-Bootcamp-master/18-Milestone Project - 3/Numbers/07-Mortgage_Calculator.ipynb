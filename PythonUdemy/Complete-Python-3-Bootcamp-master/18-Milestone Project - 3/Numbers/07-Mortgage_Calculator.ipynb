{
 "cells": [
  {
   "cell_type": "markdown",
   "source": [
    "## Mortgage Calculator\n",
    "Calculate the monthly payments of a fixed term mortgage over given Nth terms at a given interest rate. Also figure out how long it will take the user to pay back the loan. For added complexity, add an option for users to select the compounding interval (Monthly, Weekly, Daily, Continually)."
   ],
   "metadata": {}
  },
  {
   "cell_type": "code",
   "execution_count": null,
   "source": [
    "while True:\n",
    "    try:\n",
    "        loan_amount=int(input('Enter the amount of loan: '))\n",
    "    except:\n",
    "        print('Wrong input')\n",
    "    else:\n",
    "        break\n",
    "while True:\n",
    "    try:\n",
    "        interest_rate=int(input('Enter te interest rate (per annum): '))\n",
    "    except:\n",
    "        print('Wrong input')\n",
    "    else:\n",
    "        break\n",
    "while True:\n",
    "    try:\n",
    "        mortgage_term=int(input('Enter the mortgage term: '))\n",
    "    except:\n",
    "        print('Wrong input')\n",
    "    else:\n",
    "        break\n",
    "\n"
   ],
   "outputs": [],
   "metadata": {}
  }
 ],
 "metadata": {
  "orig_nbformat": 4,
  "language_info": {
   "name": "python"
  }
 },
 "nbformat": 4,
 "nbformat_minor": 2
}