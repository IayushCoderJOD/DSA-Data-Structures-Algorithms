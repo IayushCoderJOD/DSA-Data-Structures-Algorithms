{
 "cells": [
  {
   "cell_type": "markdown",
   "source": [
    "## Prime Factorization\n",
    " Have the user enter a number and find all Prime Factors (if there are any) and display them."
   ],
   "metadata": {}
  },
  {
   "cell_type": "code",
   "execution_count": 4,
   "source": [
    "while True:\n",
    "    try:\n",
    "        n=int(input(\"Enter a number and find all Prime Factors:\"))\n",
    "    except:\n",
    "        print('Wrong input')\n",
    "    else:\n",
    "        break\n",
    "lst=[]\n",
    "for count1 in range(1,n):\n",
    "    if n%count1==0:\n",
    "        factor=0\n",
    "        for count2 in range(2,count1):\n",
    "            if count1%count2==0:\n",
    "                factor+=1\n",
    "        if factor==0:\n",
    "            lst.append(count1)\n",
    "lst"
   ],
   "outputs": [
    {
     "output_type": "execute_result",
     "data": {
      "text/plain": [
       "[1, 2, 3]"
      ]
     },
     "metadata": {},
     "execution_count": 4
    }
   ],
   "metadata": {}
  }
 ],
 "metadata": {
  "orig_nbformat": 4,
  "language_info": {
   "name": "python",
   "version": "3.8.8",
   "mimetype": "text/x-python",
   "codemirror_mode": {
    "name": "ipython",
    "version": 3
   },
   "pygments_lexer": "ipython3",
   "nbconvert_exporter": "python",
   "file_extension": ".py"
  },
  "kernelspec": {
   "name": "python3",
   "display_name": "Python 3.8.8 64-bit ('base': conda)"
  },
  "interpreter": {
   "hash": "32b3c49f4e17151da5efb53fbc98b5a874dd55244b4e58b7282d112de778da72"
  }
 },
 "nbformat": 4,
 "nbformat_minor": 2
}