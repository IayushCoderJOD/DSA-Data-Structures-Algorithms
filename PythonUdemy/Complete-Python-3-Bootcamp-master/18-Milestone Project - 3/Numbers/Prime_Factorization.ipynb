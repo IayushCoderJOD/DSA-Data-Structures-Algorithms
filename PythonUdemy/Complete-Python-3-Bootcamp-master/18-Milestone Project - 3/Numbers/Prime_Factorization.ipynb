{
 "cells": [
  {
   "cell_type": "markdown",
   "source": [
    "## Prime Factorization\n",
    " Have the user enter a number and find all Prime Factors (if there are any) and display them."
   ],
   "metadata": {}
  },
  {
   "cell_type": "code",
   "execution_count": null,
   "source": [],
   "outputs": [],
   "metadata": {}
  }
 ],
 "metadata": {
  "orig_nbformat": 4,
  "language_info": {
   "name": "python"
  }
 },
 "nbformat": 4,
 "nbformat_minor": 2
}