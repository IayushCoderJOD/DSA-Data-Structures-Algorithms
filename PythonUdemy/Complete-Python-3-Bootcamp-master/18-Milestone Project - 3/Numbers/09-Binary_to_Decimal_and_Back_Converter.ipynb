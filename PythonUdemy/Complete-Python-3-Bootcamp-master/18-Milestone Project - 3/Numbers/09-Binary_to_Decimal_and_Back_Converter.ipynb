{
 "cells": [
  {
   "cell_type": "markdown",
   "source": [
    "## Binary to Decimal and Back Converter\n",
    "Develop a converter to convert a decimal number to binary or a binary number to its decimal equivalent."
   ],
   "metadata": {}
  },
  {
   "cell_type": "code",
   "execution_count": 24,
   "source": [
    "# without use the bin() or int()\n",
    "print('Press 1: Binary to Decimal')\n",
    "print('Press 2: Decimal to Binary')\n",
    "choice=int(input('Enter your choice: '))\n",
    "if choice==1:\n",
    "    print('Binary to Decimal')\n",
    "    binary_check=True\n",
    "    while binary_check:\n",
    "        while True:\n",
    "            try:\n",
    "                binary=int(input('Binary : '))\n",
    "            except:\n",
    "                print('Not integer!')\n",
    "            else:\n",
    "                break\n",
    "        decimal=0\n",
    "        binary_check=False\n",
    "        for num,digit in enumerate(str(binary)):\n",
    "            digit=int(digit)\n",
    "            if digit!=0 and digit!=1:\n",
    "                binary_check=True\n",
    "                print('Not binary!')\n",
    "                break\n",
    "            decimal+=2**num*digit\n",
    "    print(f'Decimal : {decimal}')\n",
    "\n",
    "elif choice==2:\n",
    "    print('Decimal to Binary')\n",
    "    while True:\n",
    "        try:\n",
    "            decimal=int(input('Decimal : '))\n",
    "        except:\n",
    "            print('Not integer!')\n",
    "        else:\n",
    "            break\n",
    "    num=1\n",
    "    while True:\n",
    "        if 2**num < decimal:\n",
    "            large=2**num\n",
    "            num+=1\n",
    "        else:\n",
    "            break\n",
    "    binary=0\n",
    "    multiplier=10**(num-2)\n",
    "    lst=list(range(num))\n",
    "    lst.reverse()\n",
    "    print(lst)\n",
    "    for count in lst:\n",
    "        binary+=(decimal//(2**count))*multiplier\n",
    "        print(binary)\n",
    "        multiplier=multiplier/10\n",
    "        decimal-=(decimal//(2**count))*2**count\n",
    "    print(f'Binary : {binary}')\n"
   ],
   "outputs": [
    {
     "output_type": "stream",
     "name": "stdout",
     "text": [
      "Press 1: Binary to Decimal\n",
      "Press 2: Decimal to Binary\n",
      "Decimal to Binary\n",
      "[3, 2, 1, 0]\n",
      "100\n",
      "100.0\n",
      "101.0\n",
      "101.0\n",
      "Binary : 101.0\n"
     ]
    }
   ],
   "metadata": {}
  }
 ],
 "metadata": {
  "orig_nbformat": 4,
  "language_info": {
   "name": "python",
   "version": "3.8.8",
   "mimetype": "text/x-python",
   "codemirror_mode": {
    "name": "ipython",
    "version": 3
   },
   "pygments_lexer": "ipython3",
   "nbconvert_exporter": "python",
   "file_extension": ".py"
  },
  "kernelspec": {
   "name": "python3",
   "display_name": "Python 3.8.8 64-bit ('base': conda)"
  },
  "interpreter": {
   "hash": "32b3c49f4e17151da5efb53fbc98b5a874dd55244b4e58b7282d112de778da72"
  }
 },
 "nbformat": 4,
 "nbformat_minor": 2
}