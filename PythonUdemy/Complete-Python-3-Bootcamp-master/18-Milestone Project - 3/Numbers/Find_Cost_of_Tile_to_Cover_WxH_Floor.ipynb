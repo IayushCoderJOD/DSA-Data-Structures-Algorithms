{
 "cells": [
  {
   "cell_type": "markdown",
   "source": [
    "## Find Cost of Tile to Cover W x H Floor\n",
    "Calculate the total cost of tile it would take to cover a floor plan of width and height, using a cost entered by the user."
   ],
   "metadata": {}
  },
  {
   "cell_type": "code",
   "execution_count": 3,
   "source": [
    "while True:\n",
    "    try:\n",
    "        cost=int(input('Enter the cost of each tile: '))\n",
    "    except:\n",
    "        print('Wrong input')\n",
    "    else:\n",
    "        break\n",
    "print('The standard size of tile be 1 ft x 1 ft')\n",
    "while True:\n",
    "    try:\n",
    "        width=int(input('Enter the width of wall (in ft): '))\n",
    "    except:\n",
    "        print('Wrong input')\n",
    "    else:\n",
    "        break\n",
    "while True:\n",
    "    try:\n",
    "        height=int(input('Enter the height of wall (in ft): '))\n",
    "    except:\n",
    "        print('Wrong input')\n",
    "    else:\n",
    "        break\n",
    "\n",
    "area=width*height\n",
    "total_cost=cost*area\n",
    "print(f'Total cost : {total_cost}')"
   ],
   "outputs": [
    {
     "output_type": "stream",
     "name": "stdout",
     "text": [
      "Wrong input\n",
      "The standard size of tile be 1 ft x 1 ft\n",
      "Wrong input\n",
      "Total cost : 200\n"
     ]
    }
   ],
   "metadata": {}
  }
 ],
 "metadata": {
  "orig_nbformat": 4,
  "language_info": {
   "name": "python",
   "version": "3.8.8",
   "mimetype": "text/x-python",
   "codemirror_mode": {
    "name": "ipython",
    "version": 3
   },
   "pygments_lexer": "ipython3",
   "nbconvert_exporter": "python",
   "file_extension": ".py"
  },
  "kernelspec": {
   "name": "python3",
   "display_name": "Python 3.8.8 64-bit ('base': conda)"
  },
  "interpreter": {
   "hash": "32b3c49f4e17151da5efb53fbc98b5a874dd55244b4e58b7282d112de778da72"
  }
 },
 "nbformat": 4,
 "nbformat_minor": 2
}