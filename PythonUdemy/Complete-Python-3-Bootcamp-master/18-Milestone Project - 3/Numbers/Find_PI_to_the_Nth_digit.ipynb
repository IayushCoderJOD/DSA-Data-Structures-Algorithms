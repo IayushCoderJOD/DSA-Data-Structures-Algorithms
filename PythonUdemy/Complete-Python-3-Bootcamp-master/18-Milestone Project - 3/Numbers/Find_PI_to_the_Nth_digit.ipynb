{
 "cells": [
  {
   "cell_type": "markdown",
   "source": [
    "## Find PI to the Nth Digit\n",
    " Enter a number and have the program generate &pi; (pi) up to that many decimal places. Keep a limit to how far the program will go."
   ],
   "metadata": {}
  },
  {
   "cell_type": "code",
   "execution_count": 4,
   "source": [
    "import math\n",
    "from math import pi\n",
    "n=int(input('Enter a number and have the program generate pi up to that many decimal places'))\n",
    "round(pi,n)"
   ],
   "outputs": [
    {
     "output_type": "execute_result",
     "data": {
      "text/plain": [
       "3.14159"
      ]
     },
     "metadata": {},
     "execution_count": 4
    }
   ],
   "metadata": {}
  }
 ],
 "metadata": {
  "orig_nbformat": 4,
  "language_info": {
   "name": "python",
   "version": "3.8.8",
   "mimetype": "text/x-python",
   "codemirror_mode": {
    "name": "ipython",
    "version": 3
   },
   "pygments_lexer": "ipython3",
   "nbconvert_exporter": "python",
   "file_extension": ".py"
  },
  "kernelspec": {
   "name": "python3",
   "display_name": "Python 3.8.8 64-bit ('base': conda)"
  },
  "interpreter": {
   "hash": "32b3c49f4e17151da5efb53fbc98b5a874dd55244b4e58b7282d112de778da72"
  }
 },
 "nbformat": 4,
 "nbformat_minor": 2
}