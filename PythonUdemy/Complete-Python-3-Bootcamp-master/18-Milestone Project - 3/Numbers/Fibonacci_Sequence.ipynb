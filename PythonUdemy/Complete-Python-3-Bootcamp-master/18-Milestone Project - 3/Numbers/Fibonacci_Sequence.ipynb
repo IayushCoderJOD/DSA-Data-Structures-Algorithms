{
 "cells": [
  {
   "cell_type": "markdown",
   "source": [
    "## Fibonacci Sequence\n",
    " Enter a number and have the program generate the Fibonacci sequence to that number or to the Nth number."
   ],
   "metadata": {}
  },
  {
   "cell_type": "code",
   "execution_count": 14,
   "source": [
    "n=int(input('Enter a number and have the program generate the Fibonacci sequence to that number or to the Nth number '))\n",
    "lst=[0]\n",
    "for count1 in range(1,n):\n",
    "    if len(lst)==1:\n",
    "        lst.append(count1)\n",
    "    else:\n",
    "        lst.append(lst[count1-2]+lst[count1-1])\n",
    "lst"
   ],
   "outputs": [
    {
     "output_type": "execute_result",
     "data": {
      "text/plain": [
       "[0, 1, 1, 2, 3, 5, 8]"
      ]
     },
     "metadata": {},
     "execution_count": 14
    }
   ],
   "metadata": {}
  }
 ],
 "metadata": {
  "orig_nbformat": 4,
  "language_info": {
   "name": "python",
   "version": "3.8.8",
   "mimetype": "text/x-python",
   "codemirror_mode": {
    "name": "ipython",
    "version": 3
   },
   "pygments_lexer": "ipython3",
   "nbconvert_exporter": "python",
   "file_extension": ".py"
  },
  "kernelspec": {
   "name": "python3",
   "display_name": "Python 3.8.8 64-bit ('base': conda)"
  },
  "interpreter": {
   "hash": "32b3c49f4e17151da5efb53fbc98b5a874dd55244b4e58b7282d112de778da72"
  }
 },
 "nbformat": 4,
 "nbformat_minor": 2
}