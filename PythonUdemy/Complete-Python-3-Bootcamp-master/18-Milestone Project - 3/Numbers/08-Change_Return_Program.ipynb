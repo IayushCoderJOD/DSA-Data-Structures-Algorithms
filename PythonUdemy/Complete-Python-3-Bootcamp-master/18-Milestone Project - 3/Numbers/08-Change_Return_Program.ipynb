{
 "cells": [
  {
   "cell_type": "markdown",
   "source": [
    "## Change Return Program\n",
    "The user enters a cost and then the amount of money given. The program will figure out the change and the number of quarters, dimes, nickels, pennies needed for the change."
   ],
   "metadata": {}
  },
  {
   "cell_type": "code",
   "execution_count": 2,
   "source": [
    "while True:\n",
    "    try:\n",
    "        total_amount=int(input('Enter the amount (in cents) : '))\n",
    "    except:\n",
    "        print('Wrong input!')\n",
    "    else:\n",
    "        break\n",
    "coins={'quartes':25,'dimes':10,'nickels':5,'pennies':1}\n",
    "for coin,amount in coins.items():\n",
    "    print(f'{coin}:{total_amount//amount}')\n",
    "    total_amount=total_amount-(total_amount//amount)*amount"
   ],
   "outputs": [
    {
     "output_type": "stream",
     "name": "stdout",
     "text": [
      "quartes:1\n",
      "dimes:1\n",
      "nickels:1\n",
      "pennies:1\n"
     ]
    }
   ],
   "metadata": {}
  }
 ],
 "metadata": {
  "orig_nbformat": 4,
  "language_info": {
   "name": "python",
   "version": "3.8.8",
   "mimetype": "text/x-python",
   "codemirror_mode": {
    "name": "ipython",
    "version": 3
   },
   "pygments_lexer": "ipython3",
   "nbconvert_exporter": "python",
   "file_extension": ".py"
  },
  "kernelspec": {
   "name": "python3",
   "display_name": "Python 3.8.8 64-bit ('base': conda)"
  },
  "interpreter": {
   "hash": "32b3c49f4e17151da5efb53fbc98b5a874dd55244b4e58b7282d112de778da72"
  }
 },
 "nbformat": 4,
 "nbformat_minor": 2
}