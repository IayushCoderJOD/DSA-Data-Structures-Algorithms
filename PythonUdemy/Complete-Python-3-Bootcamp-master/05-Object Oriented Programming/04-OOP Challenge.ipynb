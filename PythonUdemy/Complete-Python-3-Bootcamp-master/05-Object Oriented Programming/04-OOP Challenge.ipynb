{
 "cells": [
  {
   "cell_type": "markdown",
   "source": [
    "___\n",
    "\n",
    "<a href='https://www.udemy.com/user/joseportilla/'><img src='../Pierian_Data_Logo.png'/></a>\n",
    "___\n",
    "<center><em>Content Copyright by Pierian Data</em></center>"
   ],
   "metadata": {}
  },
  {
   "cell_type": "markdown",
   "source": [
    "# Object Oriented Programming Challenge\r\n",
    "\r\n",
    "For this challenge, create a bank account class that has two attributes:\r\n",
    "\r\n",
    "* owner\r\n",
    "* balance\r\n",
    "\r\n",
    "and two methods:\r\n",
    "\r\n",
    "* deposit\r\n",
    "* withdraw\r\n",
    "\r\n",
    "As an added requirement, withdrawals may not exceed the available balance.\r\n",
    "\r\n",
    "Instantiate your class, make several deposits and withdrawals, and test to make sure the account can't be overdrawn."
   ],
   "metadata": {}
  },
  {
   "cell_type": "code",
   "execution_count": 47,
   "source": [
    "class Account:\r\n",
    "    def __init__(self,owner,balance):\r\n",
    "        self.owner=owner\r\n",
    "        self.balance=balance\r\n",
    "    def __str__(self):\r\n",
    "        return f\"Account owner:{self.owner} \\nAccount Balance:${self.balance}\"\r\n",
    "    def deposit(self,add):\r\n",
    "        self.balance=self.balance+add\r\n",
    "        print(\"Deposit Accepted\")\r\n",
    "    def withdraw(self,sub):\r\n",
    "        if self.balance<sub:\r\n",
    "            print(\"Funds Unavailable!\")\r\n",
    "        else:\r\n",
    "            self.balance=self.balance-sub\r\n",
    "            print(\"Withdrawal Accepted\")\r\n",
    "    "
   ],
   "outputs": [],
   "metadata": {
    "collapsed": true
   }
  },
  {
   "cell_type": "code",
   "execution_count": 48,
   "source": [
    "# 1. Instantiate the class\r\n",
    "acct1 = Account('Jose',100)"
   ],
   "outputs": [],
   "metadata": {
    "collapsed": true
   }
  },
  {
   "cell_type": "code",
   "execution_count": 49,
   "source": [
    "# 2. Print the object\r\n",
    "print(acct1)"
   ],
   "outputs": [
    {
     "output_type": "stream",
     "name": "stdout",
     "text": [
      "Account owner:Jose \n",
      "Account Balance:$100\n"
     ]
    }
   ],
   "metadata": {}
  },
  {
   "cell_type": "code",
   "execution_count": 50,
   "source": [
    "# 3. Show the account owner attribute\r\n",
    "acct1.owner"
   ],
   "outputs": [
    {
     "output_type": "execute_result",
     "data": {
      "text/plain": [
       "'Jose'"
      ]
     },
     "metadata": {},
     "execution_count": 50
    }
   ],
   "metadata": {}
  },
  {
   "cell_type": "code",
   "execution_count": 51,
   "source": [
    "# 4. Show the account balance attribute\r\n",
    "acct1.balance"
   ],
   "outputs": [
    {
     "output_type": "execute_result",
     "data": {
      "text/plain": [
       "100"
      ]
     },
     "metadata": {},
     "execution_count": 51
    }
   ],
   "metadata": {}
  },
  {
   "cell_type": "code",
   "execution_count": 52,
   "source": [
    "# 5. Make a series of deposits and withdrawals\r\n",
    "acct1.deposit(50)"
   ],
   "outputs": [
    {
     "output_type": "stream",
     "name": "stdout",
     "text": [
      "Deposit Accepted\n"
     ]
    }
   ],
   "metadata": {}
  },
  {
   "cell_type": "code",
   "execution_count": 53,
   "source": [
    "acct1.withdraw(75)"
   ],
   "outputs": [
    {
     "output_type": "stream",
     "name": "stdout",
     "text": [
      "Withdrawal Accepted\n"
     ]
    }
   ],
   "metadata": {}
  },
  {
   "cell_type": "code",
   "execution_count": 54,
   "source": [
    "# 6. Make a withdrawal that exceeds the available balance\r\n",
    "acct1.withdraw(500)"
   ],
   "outputs": [
    {
     "output_type": "stream",
     "name": "stdout",
     "text": [
      "Funds Unavailable!\n"
     ]
    }
   ],
   "metadata": {}
  },
  {
   "cell_type": "markdown",
   "source": [
    "## Good job!"
   ],
   "metadata": {}
  }
 ],
 "metadata": {
  "kernelspec": {
   "name": "python3",
   "display_name": "Python 3.8.8 64-bit ('base': conda)"
  },
  "language_info": {
   "codemirror_mode": {
    "name": "ipython",
    "version": 3
   },
   "file_extension": ".py",
   "mimetype": "text/x-python",
   "name": "python",
   "nbconvert_exporter": "python",
   "pygments_lexer": "ipython3",
   "version": "3.8.8"
  },
  "interpreter": {
   "hash": "42588fd11209419b7c81abe23e31a1d2101f60811b02170c268e57ebb57d5d9a"
  }
 },
 "nbformat": 4,
 "nbformat_minor": 2
}