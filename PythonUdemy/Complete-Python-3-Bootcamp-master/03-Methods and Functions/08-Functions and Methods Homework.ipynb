{
 "cells": [
  {
   "cell_type": "markdown",
   "source": [
    "___\n",
    "\n",
    "<a href='https://www.udemy.com/user/joseportilla/'><img src='../Pierian_Data_Logo.png'/></a>\n",
    "___\n",
    "<center><em>Content Copyright by Pierian Data</em></center>"
   ],
   "metadata": {}
  },
  {
   "cell_type": "markdown",
   "source": [
    "# Functions and Methods Homework \r\n",
    "\r\n",
    "Complete the following questions:\r\n",
    "____\r\n",
    "**Write a function that computes the volume of a sphere given its radius.**\r\n",
    "<p>The volume of a sphere is given as $$\\frac{4}{3} πr^3$$</p>"
   ],
   "metadata": {}
  },
  {
   "cell_type": "code",
   "execution_count": 2,
   "source": [
    "def vol(rad):\r\n",
    "    return 4/3*22/7*rad**3"
   ],
   "outputs": [],
   "metadata": {
    "collapsed": true
   }
  },
  {
   "cell_type": "code",
   "execution_count": 3,
   "source": [
    "# Check\r\n",
    "vol(2)"
   ],
   "outputs": [
    {
     "output_type": "execute_result",
     "data": {
      "text/plain": [
       "33.523809523809526"
      ]
     },
     "metadata": {},
     "execution_count": 3
    }
   ],
   "metadata": {}
  },
  {
   "cell_type": "markdown",
   "source": [
    "___\r\n",
    "**Write a function that checks whether a number is in a given range (inclusive of high and low)**"
   ],
   "metadata": {}
  },
  {
   "cell_type": "code",
   "execution_count": 4,
   "source": [
    "def ran_check(num,low,high):\r\n",
    "    if num in range(low,high+1):\r\n",
    "        print(f\"{num} is in range between {low} and {high}\")"
   ],
   "outputs": [],
   "metadata": {
    "collapsed": true
   }
  },
  {
   "cell_type": "code",
   "execution_count": 5,
   "source": [
    "# Check\r\n",
    "ran_check(5,2,7)"
   ],
   "outputs": [
    {
     "output_type": "stream",
     "name": "stdout",
     "text": [
      "5 is in range between 2 and 7\n"
     ]
    }
   ],
   "metadata": {}
  },
  {
   "cell_type": "markdown",
   "source": [
    "If you only wanted to return a boolean:"
   ],
   "metadata": {}
  },
  {
   "cell_type": "code",
   "execution_count": 6,
   "source": [
    "def ran_bool(num,low,high):\r\n",
    "    if num in range(low,high+1):\r\n",
    "        return True\r\n",
    "    return False"
   ],
   "outputs": [],
   "metadata": {
    "collapsed": true
   }
  },
  {
   "cell_type": "code",
   "execution_count": 7,
   "source": [
    "ran_bool(3,1,10)"
   ],
   "outputs": [
    {
     "output_type": "execute_result",
     "data": {
      "text/plain": [
       "True"
      ]
     },
     "metadata": {},
     "execution_count": 7
    }
   ],
   "metadata": {}
  },
  {
   "cell_type": "markdown",
   "source": [
    "____\r\n",
    "**Write a Python function that accepts a string and calculates the number of upper case letters and lower case letters.**\r\n",
    "\r\n",
    "    Sample String : 'Hello Mr. Rogers, how are you this fine Tuesday?'\r\n",
    "    Expected Output : \r\n",
    "    No. of Upper case characters : 4\r\n",
    "    No. of Lower case Characters : 33\r\n",
    "\r\n",
    "HINT: Two string methods that might prove useful: **.isupper()** and **.islower()**\r\n",
    "\r\n",
    "If you feel ambitious, explore the Collections module to solve this problem!"
   ],
   "metadata": {}
  },
  {
   "cell_type": "code",
   "execution_count": 45,
   "source": [
    "def up_low(s):\r\n",
    "    count_upper=0\r\n",
    "    count_lower=0\r\n",
    "    for word in s:\r\n",
    "        if word.isupper():\r\n",
    "            count_upper+=1\r\n",
    "        elif word.islower():\r\n",
    "            count_lower+=1\r\n",
    "    print(f\"No. of upper case charecters:{count_upper}\")\r\n",
    "    print(f\"No. of lower case charecters:{count_lower}\")"
   ],
   "outputs": [],
   "metadata": {
    "collapsed": true
   }
  },
  {
   "cell_type": "code",
   "execution_count": 46,
   "source": [
    "s = 'Hello Mr. Rogers, how are you this fine Tuesday?'\r\n",
    "up_low(s)"
   ],
   "outputs": [
    {
     "output_type": "stream",
     "name": "stdout",
     "text": [
      "No. of upper case charecters:4\n",
      "No. of lower case charecters:33\n"
     ]
    }
   ],
   "metadata": {}
  },
  {
   "cell_type": "markdown",
   "source": [
    "____\r\n",
    "**Write a Python function that takes a list and returns a new list with unique elements of the first list.**\r\n",
    "\r\n",
    "    Sample List : [1,1,1,1,2,2,3,3,3,3,4,5]\r\n",
    "    Unique List : [1, 2, 3, 4, 5]"
   ],
   "metadata": {}
  },
  {
   "cell_type": "code",
   "execution_count": 59,
   "source": [
    "def unique_list(lst):\r\n",
    "    unique_list=[]\r\n",
    "    for num in lst:\r\n",
    "        if num not in unique_list:\r\n",
    "            unique_list.append(num)\r\n",
    "    return unique_list"
   ],
   "outputs": [],
   "metadata": {
    "collapsed": true
   }
  },
  {
   "cell_type": "code",
   "execution_count": 60,
   "source": [
    "unique_list([1,1,1,1,2,2,3,3,3,3,4,5])"
   ],
   "outputs": [
    {
     "output_type": "execute_result",
     "data": {
      "text/plain": [
       "[1, 2, 3, 4, 5]"
      ]
     },
     "metadata": {},
     "execution_count": 60
    }
   ],
   "metadata": {}
  },
  {
   "cell_type": "markdown",
   "source": [
    "____\r\n",
    "**Write a Python function to multiply all the numbers in a list.**\r\n",
    "\r\n",
    "    Sample List : [1, 2, 3, -4]\r\n",
    "    Expected Output : -24"
   ],
   "metadata": {}
  },
  {
   "cell_type": "code",
   "execution_count": 57,
   "source": [
    "def multiply(*numbers):\r\n",
    "    mul=1\r\n",
    "    for num in numbers:\r\n",
    "        mul*=num\r\n",
    "    return mul"
   ],
   "outputs": [],
   "metadata": {
    "collapsed": true
   }
  },
  {
   "cell_type": "code",
   "execution_count": 58,
   "source": [
    "multiply(1,2,3,-4)"
   ],
   "outputs": [
    {
     "output_type": "execute_result",
     "data": {
      "text/plain": [
       "-24"
      ]
     },
     "metadata": {},
     "execution_count": 58
    }
   ],
   "metadata": {}
  },
  {
   "cell_type": "markdown",
   "source": [
    "____\r\n",
    "**Write a Python function that checks whether a word or phrase is palindrome or not.**\r\n",
    "\r\n",
    "Note: A palindrome is word, phrase, or sequence that reads the same backward as forward, e.g., madam,kayak,racecar, or a phrase \"nurses run\". Hint: You may want to check out the .replace() method in a string to help out with dealing with spaces. Also google search how to reverse a string in Python, there are some clever ways to do it with slicing notation."
   ],
   "metadata": {}
  },
  {
   "cell_type": "code",
   "execution_count": 78,
   "source": [
    "def palindrome(s):\r\n",
    "    s=s.replace(\" \",\"\")\r\n",
    "    if s==s[::-1]:\r\n",
    "        return True\r\n",
    "    return False "
   ],
   "outputs": [],
   "metadata": {
    "collapsed": true
   }
  },
  {
   "cell_type": "code",
   "execution_count": 79,
   "source": [
    "palindrome('helleh')"
   ],
   "outputs": [
    {
     "output_type": "execute_result",
     "data": {
      "text/plain": [
       "True"
      ]
     },
     "metadata": {},
     "execution_count": 79
    }
   ],
   "metadata": {}
  },
  {
   "cell_type": "markdown",
   "source": [
    "____\r\n",
    "#### Hard:\r\n",
    "\r\n",
    "**Write a Python function to check whether a string is pangram or not. (Assume the string passed in does not have any punctuation)**\r\n",
    "\r\n",
    "    Note : Pangrams are words or sentences containing every letter of the alphabet at least once.\r\n",
    "    For example : \"The quick brown fox jumps over the lazy dog\"\r\n",
    "\r\n",
    "Hint: You may want to use .replace() method to get rid of spaces.\r\n",
    "\r\n",
    "Hint: Look at the [string module](https://stackoverflow.com/questions/16060899/alphabet-range-in-python)\r\n",
    "\r\n",
    "Hint: In case you want to use [set comparisons](https://medium.com/better-programming/a-visual-guide-to-set-comparisons-in-python-6ab7edb9ec41)"
   ],
   "metadata": {}
  },
  {
   "cell_type": "code",
   "execution_count": 82,
   "source": [
    "import string\r\n",
    "\r\n",
    "def ispangram(str1, alphabet=string.ascii_lowercase):\r\n",
    "    str1.lower()\r\n",
    "    str1.replace(\" \",\"\")\r\n",
    "    alphabet=list(alphabet)\r\n",
    "    for letter in str1:\r\n",
    "        if letter in alphabet:\r\n",
    "            alphabet.remove(letter)\r\n",
    "    if len(alphabet)==0:\r\n",
    "        return True"
   ],
   "outputs": [],
   "metadata": {
    "collapsed": true
   }
  },
  {
   "cell_type": "code",
   "execution_count": 83,
   "source": [
    "ispangram(\"The quick brown fox jumps over the lazy dog\")"
   ],
   "outputs": [
    {
     "output_type": "error",
     "ename": "NameError",
     "evalue": "name 'alpha' is not defined",
     "traceback": [
      "\u001b[1;31m---------------------------------------------------------------------------\u001b[0m",
      "\u001b[1;31mNameError\u001b[0m                                 Traceback (most recent call last)",
      "\u001b[1;32m<ipython-input-83-6a73ce3b8f69>\u001b[0m in \u001b[0;36m<module>\u001b[1;34m\u001b[0m\n\u001b[1;32m----> 1\u001b[1;33m \u001b[0mispangram\u001b[0m\u001b[1;33m(\u001b[0m\u001b[1;34m\"The quick brown fox jumps over the lazy dog\"\u001b[0m\u001b[1;33m)\u001b[0m\u001b[1;33m\u001b[0m\u001b[1;33m\u001b[0m\u001b[0m\n\u001b[0m",
      "\u001b[1;32m<ipython-input-82-6b6be3657941>\u001b[0m in \u001b[0;36mispangram\u001b[1;34m(str1, alphabet)\u001b[0m\n\u001b[0;32m      7\u001b[0m     \u001b[1;32mfor\u001b[0m \u001b[0mletter\u001b[0m \u001b[1;32min\u001b[0m \u001b[0mstr1\u001b[0m\u001b[1;33m:\u001b[0m\u001b[1;33m\u001b[0m\u001b[1;33m\u001b[0m\u001b[0m\n\u001b[0;32m      8\u001b[0m         \u001b[1;32mif\u001b[0m \u001b[0mletter\u001b[0m \u001b[1;32min\u001b[0m \u001b[0malphabet\u001b[0m\u001b[1;33m:\u001b[0m\u001b[1;33m\u001b[0m\u001b[1;33m\u001b[0m\u001b[0m\n\u001b[1;32m----> 9\u001b[1;33m             \u001b[0malphabet\u001b[0m\u001b[1;33m.\u001b[0m\u001b[0mremove\u001b[0m\u001b[1;33m(\u001b[0m\u001b[0malpha\u001b[0m\u001b[1;33m)\u001b[0m\u001b[1;33m\u001b[0m\u001b[1;33m\u001b[0m\u001b[0m\n\u001b[0m\u001b[0;32m     10\u001b[0m     \u001b[1;32mif\u001b[0m \u001b[0mlen\u001b[0m\u001b[1;33m(\u001b[0m\u001b[0malphabet\u001b[0m\u001b[1;33m)\u001b[0m\u001b[1;33m==\u001b[0m\u001b[1;36m0\u001b[0m\u001b[1;33m:\u001b[0m\u001b[1;33m\u001b[0m\u001b[1;33m\u001b[0m\u001b[0m\n\u001b[0;32m     11\u001b[0m         \u001b[1;32mreturn\u001b[0m \u001b[1;32mTrue\u001b[0m\u001b[1;33m\u001b[0m\u001b[1;33m\u001b[0m\u001b[0m\n",
      "\u001b[1;31mNameError\u001b[0m: name 'alpha' is not defined"
     ]
    }
   ],
   "metadata": {}
  },
  {
   "cell_type": "code",
   "execution_count": 17,
   "source": [
    "string.ascii_lowercase"
   ],
   "outputs": [
    {
     "output_type": "execute_result",
     "data": {
      "text/plain": [
       "'abcdefghijklmnopqrstuvwxyz'"
      ]
     },
     "metadata": {},
     "execution_count": 17
    }
   ],
   "metadata": {}
  },
  {
   "cell_type": "markdown",
   "source": [
    "#### Great Job!"
   ],
   "metadata": {
    "collapsed": true
   }
  }
 ],
 "metadata": {
  "kernelspec": {
   "name": "python3",
   "display_name": "Python 3.8.8 64-bit ('base': conda)"
  },
  "language_info": {
   "codemirror_mode": {
    "name": "ipython",
    "version": 3
   },
   "file_extension": ".py",
   "mimetype": "text/x-python",
   "name": "python",
   "nbconvert_exporter": "python",
   "pygments_lexer": "ipython3",
   "version": "3.8.8"
  },
  "interpreter": {
   "hash": "42588fd11209419b7c81abe23e31a1d2101f60811b02170c268e57ebb57d5d9a"
  }
 },
 "nbformat": 4,
 "nbformat_minor": 1
}