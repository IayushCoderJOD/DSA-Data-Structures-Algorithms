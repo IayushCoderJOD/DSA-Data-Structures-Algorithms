{
 "cells": [
  {
   "cell_type": "code",
   "execution_count": 22,
   "source": [
    "string='(1+(2+pi)+1)'"
   ],
   "outputs": [
    {
     "output_type": "execute_result",
     "data": {
      "text/plain": [
       "['(', '1', '+', '(', '2', '+', 'pi', ')', '+', '1', ')']"
      ]
     },
     "metadata": {},
     "execution_count": 22
    }
   ],
   "metadata": {}
  },
  {
   "cell_type": "code",
   "execution_count": null,
   "source": [],
   "outputs": [],
   "metadata": {}
  }
 ],
 "metadata": {
  "orig_nbformat": 4,
  "language_info": {
   "name": "python",
   "version": "3.8.8",
   "mimetype": "text/x-python",
   "codemirror_mode": {
    "name": "ipython",
    "version": 3
   },
   "pygments_lexer": "ipython3",
   "nbconvert_exporter": "python",
   "file_extension": ".py"
  },
  "kernelspec": {
   "name": "python3",
   "display_name": "Python 3.8.8 64-bit ('base': conda)"
  },
  "interpreter": {
   "hash": "32b3c49f4e17151da5efb53fbc98b5a874dd55244b4e58b7282d112de778da72"
  }
 },
 "nbformat": 4,
 "nbformat_minor": 2
}