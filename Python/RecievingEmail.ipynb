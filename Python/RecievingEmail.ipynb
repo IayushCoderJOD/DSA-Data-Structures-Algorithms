{
 "cells": [
  {
   "cell_type": "code",
   "execution_count": 1,
   "source": [
    "import imaplib"
   ],
   "outputs": [],
   "metadata": {}
  },
  {
   "cell_type": "code",
   "execution_count": 2,
   "source": [
    "M=imaplib.IMAP4_SSL('imap.gmail.com')"
   ],
   "outputs": [],
   "metadata": {}
  },
  {
   "cell_type": "code",
   "execution_count": 3,
   "source": [
    "import getpass"
   ],
   "outputs": [],
   "metadata": {}
  },
  {
   "cell_type": "code",
   "execution_count": 4,
   "source": [
    "email=input('Email : ')\n",
    "password=getpass.getpass('Password : ')\n",
    "M.login(email,password)"
   ],
   "outputs": [
    {
     "output_type": "execute_result",
     "data": {
      "text/plain": [
       "('OK', [b'driprecovery@gmail.com authenticated (Success)'])"
      ]
     },
     "metadata": {},
     "execution_count": 4
    }
   ],
   "metadata": {}
  },
  {
   "cell_type": "code",
   "execution_count": 5,
   "source": [
    "M.list()"
   ],
   "outputs": [
    {
     "output_type": "execute_result",
     "data": {
      "text/plain": [
       "('OK',\n",
       " [b'(\\\\HasNoChildren) \"/\" \"INBOX\"',\n",
       "  b'(\\\\HasNoChildren) \"/\" \"Notes\"',\n",
       "  b'(\\\\HasChildren \\\\Noselect) \"/\" \"[Gmail]\"',\n",
       "  b'(\\\\All \\\\HasNoChildren) \"/\" \"[Gmail]/All Mail\"',\n",
       "  b'(\\\\Drafts \\\\HasNoChildren) \"/\" \"[Gmail]/Drafts\"',\n",
       "  b'(\\\\HasNoChildren \\\\Important) \"/\" \"[Gmail]/Important\"',\n",
       "  b'(\\\\HasNoChildren \\\\Sent) \"/\" \"[Gmail]/Sent Mail\"',\n",
       "  b'(\\\\HasNoChildren \\\\Junk) \"/\" \"[Gmail]/Spam\"',\n",
       "  b'(\\\\Flagged \\\\HasNoChildren) \"/\" \"[Gmail]/Starred\"',\n",
       "  b'(\\\\HasNoChildren \\\\Trash) \"/\" \"[Gmail]/Trash\"'])"
      ]
     },
     "metadata": {},
     "execution_count": 5
    }
   ],
   "metadata": {}
  },
  {
   "cell_type": "code",
   "execution_count": 6,
   "source": [
    "M.select('inbox')"
   ],
   "outputs": [
    {
     "output_type": "execute_result",
     "data": {
      "text/plain": [
       "('OK', [b'9635'])"
      ]
     },
     "metadata": {},
     "execution_count": 6
    }
   ],
   "metadata": {}
  },
  {
   "cell_type": "code",
   "execution_count": 10,
   "source": [
    "typ,data=M.search(None,'SUBJECT \"Practicing Emailling with Python\"')"
   ],
   "outputs": [],
   "metadata": {}
  },
  {
   "cell_type": "code",
   "execution_count": 11,
   "source": [
    "typ"
   ],
   "outputs": [
    {
     "output_type": "execute_result",
     "data": {
      "text/plain": [
       "'OK'"
      ]
     },
     "metadata": {},
     "execution_count": 11
    }
   ],
   "metadata": {}
  },
  {
   "cell_type": "code",
   "execution_count": 12,
   "source": [
    "data"
   ],
   "outputs": [
    {
     "output_type": "execute_result",
     "data": {
      "text/plain": [
       "[b'9635']"
      ]
     },
     "metadata": {},
     "execution_count": 12
    }
   ],
   "metadata": {}
  },
  {
   "cell_type": "code",
   "execution_count": 14,
   "source": [
    "result,email_data=M.fetch(data[0],\"(RFC822)\")"
   ],
   "outputs": [],
   "metadata": {}
  },
  {
   "cell_type": "code",
   "execution_count": 15,
   "source": [
    "result"
   ],
   "outputs": [
    {
     "output_type": "execute_result",
     "data": {
      "text/plain": [
       "'OK'"
      ]
     },
     "metadata": {},
     "execution_count": 15
    }
   ],
   "metadata": {}
  },
  {
   "cell_type": "code",
   "execution_count": 17,
   "source": [
    "print(email_data)"
   ],
   "outputs": [
    {
     "output_type": "stream",
     "name": "stdout",
     "text": [
      "[(b'9635 (RFC822 {540}', b'Bcc: driprecovery@gmail.com\\r\\nReturn-Path: <driprecovery@gmail.com>\\r\\nReceived: from [127.0.1.1] ([103.87.140.87])\\r\\n        by smtp.gmail.com with ESMTPSA id z131sm1990333pfc.159.2021.09.09.04.21.31\\r\\n        for <driprecovery@gmail.com>\\r\\n        (version=TLS1_3 cipher=TLS_AES_256_GCM_SHA384 bits=256/256);\\r\\n        Thu, 09 Sep 2021 04:21:32 -0700 (PDT)\\r\\nMessage-ID: <6139ee3c.1c69fb81.bab0f.538b@mx.google.com>\\r\\nDate: Thu, 09 Sep 2021 04:21:32 -0700 (PDT)\\r\\nFrom: driprecovery@gmail.com\\r\\nSubject: Practicing Emailling with Python\\r\\n\\r\\nnothing\\r\\n'), b' FLAGS (\\\\Seen))']\n"
     ]
    }
   ],
   "metadata": {}
  },
  {
   "cell_type": "code",
   "execution_count": 18,
   "source": [
    "raw_email=email_data[0][1]\n",
    "print(raw_email)"
   ],
   "outputs": [
    {
     "output_type": "stream",
     "name": "stdout",
     "text": [
      "b'Bcc: driprecovery@gmail.com\\r\\nReturn-Path: <driprecovery@gmail.com>\\r\\nReceived: from [127.0.1.1] ([103.87.140.87])\\r\\n        by smtp.gmail.com with ESMTPSA id z131sm1990333pfc.159.2021.09.09.04.21.31\\r\\n        for <driprecovery@gmail.com>\\r\\n        (version=TLS1_3 cipher=TLS_AES_256_GCM_SHA384 bits=256/256);\\r\\n        Thu, 09 Sep 2021 04:21:32 -0700 (PDT)\\r\\nMessage-ID: <6139ee3c.1c69fb81.bab0f.538b@mx.google.com>\\r\\nDate: Thu, 09 Sep 2021 04:21:32 -0700 (PDT)\\r\\nFrom: driprecovery@gmail.com\\r\\nSubject: Practicing Emailling with Python\\r\\n\\r\\nnothing\\r\\n'\n"
     ]
    }
   ],
   "metadata": {}
  },
  {
   "cell_type": "code",
   "execution_count": 19,
   "source": [
    "raw_email_string=raw_email.decode('utf-8')"
   ],
   "outputs": [],
   "metadata": {}
  },
  {
   "cell_type": "code",
   "execution_count": 22,
   "source": [
    "print(raw_email_string)"
   ],
   "outputs": [
    {
     "output_type": "stream",
     "name": "stdout",
     "text": [
      "Bcc: driprecovery@gmail.com\n",
      "Return-Path: <driprecovery@gmail.com>\n",
      "Received: from [127.0.1.1] ([103.87.140.87])\n",
      "        by smtp.gmail.com with ESMTPSA id z131sm1990333pfc.159.2021.09.09.04.21.31\n",
      "        for <driprecovery@gmail.com>\n",
      "        (version=TLS1_3 cipher=TLS_AES_256_GCM_SHA384 bits=256/256);\n",
      "        Thu, 09 Sep 2021 04:21:32 -0700 (PDT)\n",
      "Message-ID: <6139ee3c.1c69fb81.bab0f.538b@mx.google.com>\n",
      "Date: Thu, 09 Sep 2021 04:21:32 -0700 (PDT)\n",
      "From: driprecovery@gmail.com\n",
      "Subject: Practicing Emailling with Python\n",
      "\n",
      "nothing\n",
      "\n"
     ]
    }
   ],
   "metadata": {}
  },
  {
   "cell_type": "code",
   "execution_count": 23,
   "source": [
    "import email"
   ],
   "outputs": [],
   "metadata": {}
  },
  {
   "cell_type": "code",
   "execution_count": 26,
   "source": [
    "email_message=email.message_from_string(raw_email_string)\n",
    "print(email_message)"
   ],
   "outputs": [
    {
     "output_type": "stream",
     "name": "stdout",
     "text": [
      "Bcc: driprecovery@gmail.com\n",
      "Return-Path: <driprecovery@gmail.com>\n",
      "Received: from [127.0.1.1] ([103.87.140.87])\n",
      "        by smtp.gmail.com with ESMTPSA id z131sm1990333pfc.159.2021.09.09.04.21.31\n",
      "        for <driprecovery@gmail.com>\n",
      "        (version=TLS1_3 cipher=TLS_AES_256_GCM_SHA384 bits=256/256);\n",
      "        Thu, 09 Sep 2021 04:21:32 -0700 (PDT)\n",
      "Message-ID: <6139ee3c.1c69fb81.bab0f.538b@mx.google.com>\n",
      "Date: Thu, 09 Sep 2021 04:21:32 -0700 (PDT)\n",
      "From: driprecovery@gmail.com\n",
      "Subject: Practicing Emailling with Python\n",
      "\n",
      "nothing\n",
      "\n"
     ]
    }
   ],
   "metadata": {}
  },
  {
   "cell_type": "code",
   "execution_count": 28,
   "source": [
    "for part in email_message.walk():\n",
    "    if part.get_content_type()=='text/plain':\n",
    "        body=part.get_payload(decode=True)\n",
    "        print(body)"
   ],
   "outputs": [
    {
     "output_type": "stream",
     "name": "stdout",
     "text": [
      "b'nothing\\r\\n'\n"
     ]
    }
   ],
   "metadata": {}
  }
 ],
 "metadata": {
  "orig_nbformat": 4,
  "language_info": {
   "name": "python",
   "version": "3.8.8",
   "mimetype": "text/x-python",
   "codemirror_mode": {
    "name": "ipython",
    "version": 3
   },
   "pygments_lexer": "ipython3",
   "nbconvert_exporter": "python",
   "file_extension": ".py"
  },
  "kernelspec": {
   "name": "python3",
   "display_name": "Python 3.8.8 64-bit ('base': conda)"
  },
  "interpreter": {
   "hash": "32b3c49f4e17151da5efb53fbc98b5a874dd55244b4e58b7282d112de778da72"
  }
 },
 "nbformat": 4,
 "nbformat_minor": 2
}